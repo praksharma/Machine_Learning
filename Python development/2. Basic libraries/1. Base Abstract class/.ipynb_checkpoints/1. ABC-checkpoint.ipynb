{
 "cells": [
  {
   "cell_type": "markdown",
   "id": "44b9447b-8bab-4ea7-8c7c-a4e7553515e0",
   "metadata": {},
   "source": [
    "# Abstract Base Class (abc) in Python\n",
    "\n",
    "Link: https://www.geeksforgeeks.org/abstract-base-class-abc-in-python/vv\n",
    "\n",
    "* AIM: to provide a standardized way to test whether an object adheres to a given specification.\n",
    "\n",
    "## ABCMeta metaclass\n",
    "Every abstract must use ABCMeta metaclass. It provides a method called register. By using this register method, any abstract base class can become an ancestor of any arbitrary concrete class."
   ]
  },
  {
   "cell_type": "code",
   "execution_count": 2,
   "id": "47e03790-5c9a-4304-ade9-67650a23e2bd",
   "metadata": {},
   "outputs": [
    {
     "name": "stdout",
     "output_type": "stream",
     "text": [
      "<class 'dict'>\n",
      "True\n"
     ]
    }
   ],
   "source": [
    "import abc\n",
    "\n",
    "class AbstractClass(metaclass=abc.ABCMeta): # this is the abstract class\n",
    " def abstractfunc(self):\n",
    "  return None\n",
    "\n",
    "\n",
    "print(AbstractClass.register(dict))\n",
    "print(issubclass(dict, AbstractClass))"
   ]
  },
  {
   "cell_type": "markdown",
   "id": "fef7c920-08c3-4ae0-9eb2-c2bb149bdc71",
   "metadata": {},
   "source": [
    "Here, dict identifies itself as a subclass of AbstractClass. `issubclass` returns true if the first entry is the subclass of the second entry.\n",
    "\n",
    "# Why ABC?\n",
    "Allows you to test the objects in an standardised way. You can use `ininstance()` to comapre default data types but not classes. Since, in Python everything is class you can compare literally anything."
   ]
  },
  {
   "cell_type": "code",
   "execution_count": 3,
   "id": "7e7f78f3-3a9d-4575-b6bb-e5b8bb258e9f",
   "metadata": {},
   "outputs": [
    {
     "name": "stdout",
     "output_type": "stream",
     "text": [
      "List instance: True\n",
      "Tuple instance: True\n",
      "Object instance: False\n"
     ]
    }
   ],
   "source": [
    "import abc\n",
    "\n",
    "\n",
    "class MySequence(metaclass=abc.ABCMeta):\n",
    " pass\n",
    "\n",
    "MySequence.register(list)\n",
    "MySequence.register(tuple)\n",
    "\n",
    "a = [1, 2, 3]\n",
    "b = ('x', 'y', 'z')\n",
    "\n",
    "print('List instance:', isinstance(a, MySequence))\n",
    "print('Tuple instance:', isinstance(b, MySequence))\n",
    "print('Object instance:', isinstance(object(), MySequence)) # isinstance can't compare objects and thus returns false"
   ]
  },
  {
   "cell_type": "markdown",
   "id": "a0127b0e-c021-49e5-ba39-be5a3e75d902",
   "metadata": {},
   "source": [
    "This how we use ABC to compare objects."
   ]
  },
  {
   "cell_type": "code",
   "execution_count": 4,
   "id": "f1f2d4c2-6d67-48e4-b5b2-57633b338a68",
   "metadata": {},
   "outputs": [
    {
     "name": "stdout",
     "output_type": "stream",
     "text": [
      "True\n"
     ]
    }
   ],
   "source": [
    "import abc\n",
    "\n",
    "\n",
    "class MySequence(metaclass=abc.ABCMeta): # A class\n",
    " pass\n",
    "\n",
    "class CustomListLikeObjCls(object): # the sub class\n",
    " pass\n",
    "\n",
    "MySequence.register(CustomListLikeObjCls) # registering subclass to the class MySequence\n",
    "print(issubclass(CustomListLikeObjCls, MySequence))"
   ]
  },
  {
   "cell_type": "markdown",
   "id": "2ea30d74-bd6b-4af0-a4d2-338f937ad0d2",
   "metadata": {},
   "source": [
    "It returns true. Here, CustomListLikeObjCls instance is passed to the library by registering it with MySequence. Therefore, the instance check returns True.\n",
    "\n",
    "## register method as a decorator\n",
    "You can also use the register method as a decorator to register a custom class. Let’s see how to use the register method as a decorator."
   ]
  },
  {
   "cell_type": "code",
   "execution_count": 5,
   "id": "e9d71e60-cc83-4ede-ac82-c05256018cba",
   "metadata": {},
   "outputs": [
    {
     "name": "stdout",
     "output_type": "stream",
     "text": [
      "True\n"
     ]
    }
   ],
   "source": [
    "import abc\n",
    "\n",
    "\n",
    "class MySequence(metaclass=abc.ABCMeta): # A class\n",
    " pass\n",
    "\n",
    "@MySequence.register  # instead of MySequence.register(CustomListLikeObjCls)\n",
    "class CustomListLikeObjCls(object):\n",
    " pass\n",
    "\n",
    "print(issubclass(CustomListLikeObjCls, MySequence))"
   ]
  },
  {
   "cell_type": "markdown",
   "id": "c1d7d972-30d1-42b4-9c3c-8a4d91c1daed",
   "metadata": {},
   "source": [
    "Registering a class using the above-implemented method meets the purpose. However, you have to do manual registration for every intended subclass.\n",
    "\n",
    "## automatic subclassing using `__subclasshook___`\n",
    "* It is a special magic method defined by ABCMeta.\n",
    "* The __subclasshook__ must be defined as a class method using `@classmethod` decorator.\n",
    "* It takes one additional positional argument other than the class and can return either of the three values – `True`, `False`, or `NotImplemented`."
   ]
  },
  {
   "cell_type": "code",
   "execution_count": 6,
   "id": "c6b81300-c3da-4e30-8514-645bbfd5a530",
   "metadata": {},
   "outputs": [
    {
     "name": "stdout",
     "output_type": "stream",
     "text": [
      "subclass hook: <class '__main__.SubClass'>\n",
      "True\n",
      "subclass hook: <class '__main__.NormalClass'>\n",
      "False\n"
     ]
    }
   ],
   "source": [
    "import abc\n",
    "\n",
    "\n",
    "class AbstractClass(metaclass=abc.ABCMeta):  # A class\n",
    " @classmethod\n",
    " def __subclasshook__(cls, other):\n",
    "  print('subclass hook:', other)\n",
    "  hookmethod = getattr(other, 'hookmethod', None)\n",
    "  return callable(hookmethod)\n",
    "\n",
    "class SubClass(object): # a subclass using hookmethod\n",
    " def hookmethod(self):\n",
    "  pass\n",
    "\n",
    "class NormalClass(object): # non subclass not using hookmethod\n",
    " hookmethod = 'hook'\n",
    "\n",
    "\n",
    "print(issubclass(SubClass, AbstractClass))\n",
    "print(issubclass(NormalClass, AbstractClass))"
   ]
  },
  {
   "cell_type": "markdown",
   "id": "50929139-e80d-4b61-8732-d9318e982447",
   "metadata": {},
   "source": [
    "## Avoid instantiating a subclass that doesn’t override a particular method in the superclass.\n",
    "* use `@abc.abstractmethod`"
   ]
  },
  {
   "cell_type": "code",
   "execution_count": 7,
   "id": "937dea65-17fb-4e4a-ba73-49cc33ccaf58",
   "metadata": {},
   "outputs": [
    {
     "ename": "TypeError",
     "evalue": "Can't instantiate abstract class InvalidSubClass with abstract method abstractName",
     "output_type": "error",
     "traceback": [
      "\u001b[0;31m---------------------------------------------------------------------------\u001b[0m",
      "\u001b[0;31mTypeError\u001b[0m                                 Traceback (most recent call last)",
      "Input \u001b[0;32mIn [7]\u001b[0m, in \u001b[0;36m<cell line: 12>\u001b[0;34m()\u001b[0m\n\u001b[1;32m      9\u001b[0m \u001b[38;5;28;01mclass\u001b[39;00m \u001b[38;5;21;01mInvalidSubClass\u001b[39;00m(AbstractClass):\n\u001b[1;32m     10\u001b[0m  \u001b[38;5;28;01mpass\u001b[39;00m\n\u001b[0;32m---> 12\u001b[0m isc \u001b[38;5;241m=\u001b[39m \u001b[43mInvalidSubClass\u001b[49m\u001b[43m(\u001b[49m\u001b[43m)\u001b[49m\n",
      "\u001b[0;31mTypeError\u001b[0m: Can't instantiate abstract class InvalidSubClass with abstract method abstractName"
     ]
    }
   ],
   "source": [
    "import abc\n",
    "\n",
    "\n",
    "class AbstractClass(metaclass=abc.ABCMeta):  # a class\n",
    " @abc.abstractmethod  # method to avoid subclass abstration unless overidden by another definition\n",
    " def abstractName(self):\n",
    "  pass\n",
    "\n",
    "class InvalidSubClass(AbstractClass):  # a subclass\n",
    " pass\n",
    "\n",
    "isc = InvalidSubClass()"
   ]
  },
  {
   "cell_type": "markdown",
   "id": "1d65c4e2-4c59-416b-a979-faad75828123",
   "metadata": {},
   "source": [
    "## How to overide\n",
    "Just redefine the same function. "
   ]
  },
  {
   "cell_type": "code",
   "execution_count": 8,
   "id": "7110881e-ea23-4d2c-ab84-0e700918acf4",
   "metadata": {},
   "outputs": [
    {
     "name": "stdout",
     "output_type": "stream",
     "text": [
      "Abstract 1\n"
     ]
    }
   ],
   "source": [
    "import abc\n",
    "\n",
    "class AbstractClass(metaclass=abc.ABCMeta):  # a class\n",
    " @abc.abstractmethod               # to avoid subclass\n",
    " def abstractName(self):\n",
    "  pass\n",
    "\n",
    "class ValidSubClass(AbstractClass):  # a subclass\n",
    " def abstractName(self):            # overiding the abstractname method\n",
    "  return 'Abstract 1'\n",
    "\n",
    "vc = ValidSubClass()   # define new instance to test\n",
    "print(vc.abstractName())"
   ]
  },
  {
   "cell_type": "markdown",
   "id": "45c956d4-00ef-4447-b804-cd80ea3e90eb",
   "metadata": {},
   "source": [
    "This may be particularly useful when we want to change a particular method in superclass.\n",
    "\n",
    "## Abstract Properties\n",
    "* use `@property` decorator and `@abc.abstractmethod` to declare properties as an abstract class.\n",
    "\n",
    "\n",
    "### Property decorator\n",
    "* Return a property attribute.\n",
    "* `class property(fget=None, fset=None, fdel=None, doc=None)`"
   ]
  },
  {
   "cell_type": "code",
   "execution_count": 11,
   "id": "8e2ccbc0-1893-45fe-9568-ca39b40d9044",
   "metadata": {},
   "outputs": [
    {
     "name": "stdout",
     "output_type": "stream",
     "text": [
      "Abstract 1\n"
     ]
    }
   ],
   "source": [
    "import abc\n",
    "\n",
    "class AbstractClass(metaclass=abc.ABCMeta):  # a class\n",
    " @property\n",
    " @abc.abstractmethod                 # avoid subclass abstract\n",
    " def abstractName(self):\n",
    "  pass\n",
    "\n",
    "\n",
    "class ValidSubClass(AbstractClass):   # a subclass\n",
    " @property\n",
    " def abstractName(self):              # overding the @abstractmethod\n",
    "  return 'Abstract 1'\n",
    "\n",
    "\n",
    "vc = ValidSubClass()\n",
    "print(vc.abstractName) # gets the value of the attribute"
   ]
  },
  {
   "cell_type": "markdown",
   "id": "62ef3e13-cb9a-4ba0-b7b4-3da4e6c96b65",
   "metadata": {},
   "source": [
    "## Built-in Abstract classes\n",
    "Python 3 standard library provides a few built-in abstract classes for both abstract and non-abstract methods.\n",
    "\n",
    "* Single-Method ABCs\n",
    "    * Callable (__call__)\n",
    "    * Container (__contains__)\n",
    "    * Hashable (__hash__)\n",
    "    * Iterable (__iter__)\n",
    "    * Sized (__len__)\n",
    "* Alternative-Collection ABCs\n",
    "    * Sequence and Mutable Sequence\n",
    "    * Mapping\n",
    "    * Set"
   ]
  },
  {
   "cell_type": "code",
   "execution_count": 20,
   "id": "5bd16fd4-3f90-415f-ac34-64c11fed8395",
   "metadata": {},
   "outputs": [
    {
     "name": "stdout",
     "output_type": "stream",
     "text": [
      "True\n"
     ]
    }
   ],
   "source": [
    "from collections.abc import Sized  # import __len__\n",
    "\n",
    "\n",
    "class SingleMethod(object):\n",
    " def __len__(self):\n",
    "  pass\n",
    "\n",
    "\n",
    "print(issubclass(SingleMethod, Sized))"
   ]
  },
  {
   "cell_type": "markdown",
   "id": "102e41bd-1bdd-4cb9-a023-d1c7115aa2af",
   "metadata": {},
   "source": [
    "This way you can give a summary to your class for identification purpose."
   ]
  }
 ],
 "metadata": {
  "kernelspec": {
   "display_name": "Python 3 (ipykernel)",
   "language": "python",
   "name": "python3"
  },
  "language_info": {
   "codemirror_mode": {
    "name": "ipython",
    "version": 3
   },
   "file_extension": ".py",
   "mimetype": "text/x-python",
   "name": "python",
   "nbconvert_exporter": "python",
   "pygments_lexer": "ipython3",
   "version": "3.9.13"
  }
 },
 "nbformat": 4,
 "nbformat_minor": 5
}
