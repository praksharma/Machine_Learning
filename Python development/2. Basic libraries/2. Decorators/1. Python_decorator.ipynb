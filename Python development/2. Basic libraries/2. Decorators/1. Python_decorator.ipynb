{
 "cells": [
  {
   "cell_type": "markdown",
   "id": "2b78eaa4-5c0a-4cd2-9f4b-ae7039bd48e0",
   "metadata": {},
   "source": [
    "# Python decorator\n",
    "A tutorial link: https://realpython.com/primer-on-python-decorators/#functions\n",
    "\n",
    "A Function is defined as follows"
   ]
  },
  {
   "cell_type": "code",
   "execution_count": 12,
   "id": "38dd7f13-8cb3-4432-a63d-5231728a2d43",
   "metadata": {},
   "outputs": [
    {
     "name": "stdout",
     "output_type": "stream",
     "text": [
      "This is an inside function\n",
      "This is a function\n",
      "True\n"
     ]
    },
    {
     "ename": "NameError",
     "evalue": "name 'func1' is not defined",
     "output_type": "error",
     "traceback": [
      "\u001b[0;31m---------------------------------------------------------------------------\u001b[0m",
      "\u001b[0;31mNameError\u001b[0m                                 Traceback (most recent call last)",
      "\u001b[0;32m/tmp/ipykernel_106518/419507526.py\u001b[0m in \u001b[0;36m<cell line: 15>\u001b[0;34m()\u001b[0m\n\u001b[1;32m     13\u001b[0m \u001b[0;31m# Calling the function\u001b[0m\u001b[0;34m\u001b[0m\u001b[0;34m\u001b[0m\u001b[0m\n\u001b[1;32m     14\u001b[0m \u001b[0mprint\u001b[0m\u001b[0;34m(\u001b[0m\u001b[0mfunc\u001b[0m\u001b[0;34m(\u001b[0m\u001b[0;34m)\u001b[0m\u001b[0;34m)\u001b[0m\u001b[0;34m\u001b[0m\u001b[0;34m\u001b[0m\u001b[0m\n\u001b[0;32m---> 15\u001b[0;31m \u001b[0mfunc1\u001b[0m\u001b[0;34m(\u001b[0m\u001b[0;34m)\u001b[0m \u001b[0;31m# scope error\u001b[0m\u001b[0;34m\u001b[0m\u001b[0;34m\u001b[0m\u001b[0m\n\u001b[0m",
      "\u001b[0;31mNameError\u001b[0m: name 'func1' is not defined"
     ]
    }
   ],
   "source": [
    "# Function 1\n",
    "def func():\n",
    "    def func1():\n",
    "        print('This is an inside function')\n",
    "        flag =False\n",
    "        return flag\n",
    "    func1()\n",
    "    if True:\n",
    "        print('This is a function')\n",
    "        flag = True\n",
    "        return flag\n",
    "    \n",
    "# Calling the function\n",
    "print(func())\n",
    "func1() # scope error"
   ]
  },
  {
   "cell_type": "markdown",
   "id": "76eeec2d-236a-4783-b0da-4580e5b34f47",
   "metadata": {},
   "source": [
    "# Simple, old-fashioned decorators\n",
    "Decorators wrap a function, modifying its behavior. In the following example, we send in the `say_whee` function to `my_decorator` and returns `wrapper` which is reassigned to `say_whee`."
   ]
  },
  {
   "cell_type": "code",
   "execution_count": 17,
   "id": "d76e197d-4de6-4d71-a488-1020acd2fb2d",
   "metadata": {},
   "outputs": [
    {
     "name": "stdout",
     "output_type": "stream",
     "text": [
      "say_whee is pointing to :  <function my_decorator.<locals>.wrapper at 0x7fdd3e980940>\n",
      "Something is happening before the function is called.\n",
      "Whee!\n",
      "Something is happening after the function is called.\n"
     ]
    }
   ],
   "source": [
    "def my_decorator(func):\n",
    "    def wrapper():\n",
    "        print(\"Something is happening before the function is called.\")\n",
    "        func() # this is say_shee function\n",
    "        print(\"Something is happening after the function is called.\")\n",
    "    return wrapper\n",
    "\n",
    "def say_whee():\n",
    "    print(\"Whee!\")\n",
    "\n",
    "say_whee = my_decorator(say_whee)\n",
    "print('say_whee is pointing to : ',say_whee)\n",
    "say_whee()"
   ]
  },
  {
   "cell_type": "markdown",
   "id": "b3d9a002-b13f-4fcd-9892-147ad8d339bb",
   "metadata": {},
   "source": [
    "Here is another example: this code will only work when `datetime.now().hour` is between $\\left[5,22\\right]$."
   ]
  },
  {
   "cell_type": "code",
   "execution_count": 25,
   "id": "c6ac73fd-ed2a-4120-9d1b-fee894014983",
   "metadata": {},
   "outputs": [],
   "source": [
    "from datetime import datetime\n",
    "\n",
    "def not_during_the_night(func):\n",
    "    def wrapper():\n",
    "        if 5 <= datetime.now().hour < 22:\n",
    "            func()\n",
    "        else:\n",
    "            pass  # Hush, the neighbors are asleep\n",
    "    return wrapper\n",
    "\n",
    "def say_whee():\n",
    "    print(\"Whee!\")\n",
    "\n",
    "say_whee = not_during_the_night(say_whee)"
   ]
  },
  {
   "cell_type": "code",
   "execution_count": 26,
   "id": "3febd3fc-ddee-4815-b130-a130964524a6",
   "metadata": {},
   "outputs": [
    {
     "data": {
      "text/plain": [
       "6"
      ]
     },
     "execution_count": 26,
     "metadata": {},
     "output_type": "execute_result"
    }
   ],
   "source": [
    "datetime.now().hour"
   ]
  },
  {
   "cell_type": "code",
   "execution_count": 27,
   "id": "94ebbc53-9098-46e7-9f19-4d75bf1d7b31",
   "metadata": {},
   "outputs": [
    {
     "name": "stdout",
     "output_type": "stream",
     "text": [
      "Whee!\n"
     ]
    }
   ],
   "source": [
    "say_whee()"
   ]
  },
  {
   "cell_type": "markdown",
   "id": "399d07e1-b5b2-49ab-b133-f8053546974c",
   "metadata": {},
   "source": [
    "# Standard decorators\n",
    "Python allows you to use decorators in a simpler way with the `@` symbol, sometimes called the “pie” syntax. So, `@my_decorator` is just an easier way of saying `say_whee = my_decorator(say_whee)`. It’s how you apply a decorator to a function."
   ]
  },
  {
   "cell_type": "code",
   "execution_count": null,
   "id": "b37dbb31-1cbc-4509-afb1-1d117fd537ff",
   "metadata": {},
   "outputs": [
    {
     "name": "stdout",
     "output_type": "stream",
     "text": [
      "<function my_decorator.<locals>.wrapper at 0x7fdd3e4139d0>\n",
      "Something is happening before the function is called.\n",
      "Whee!\n",
      "Something is happening after the function is called.\n",
      "None\n"
     ]
    }
   ],
   "source": [
    "def my_decorator(func):\n",
    "    def wrapper():\n",
    "        print(\"Something is happening before the function is called.\")\n",
    "        func()\n",
    "        print(\"Something is happening after the function is called.\")\n",
    "    return wrapper\n",
    "\n",
    "@my_decorator\n",
    "def say_whee():\n",
    "    print(\"Whee!\")\n",
    "print(say_whee)   # function pinter\n",
    "print(say_whee()) # calling the function"
   ]
  },
  {
   "cell_type": "markdown",
   "id": "88190f2c-5359-49e4-b272-3ef2f7abace2",
   "metadata": {},
   "source": [
    "# reusing decorators\n",
    "Recall that a decorator is just a regular Python function. All the usual tools for easy reusability are available. Let’s move the decorator to its own module that can be used in many other functions. Create a file called `decorators.py` with the following content:"
   ]
  },
  {
   "cell_type": "code",
   "execution_count": 29,
   "id": "8f2f7ff4-75b2-4505-aaae-d17d8ab65bf9",
   "metadata": {},
   "outputs": [],
   "source": [
    "def do_twice(func):\n",
    "    def wrapper():\n",
    "        func()\n",
    "        func()\n",
    "    return wrapper"
   ]
  },
  {
   "cell_type": "code",
   "execution_count": 2,
   "id": "a46187be-b3a0-4a33-b40d-2a70159e007f",
   "metadata": {},
   "outputs": [
    {
     "name": "stdout",
     "output_type": "stream",
     "text": [
      "hello\n",
      "hello\n"
     ]
    },
    {
     "data": {
      "text/plain": [
       "(<function decorator_1.do.<locals>.wrapper()>, None)"
      ]
     },
     "execution_count": 2,
     "metadata": {},
     "output_type": "execute_result"
    }
   ],
   "source": [
    "# check decorator.py file\n",
    "from decorator_1 import do\n",
    "\n",
    "@do\n",
    "def func():\n",
    "    print('hello')\n",
    "    \n",
    "func, func()"
   ]
  },
  {
   "cell_type": "markdown",
   "id": "647bb55b-b8db-4aee-b4d7-0692ad11b45e",
   "metadata": {},
   "source": [
    "# Decorating Functions With Arguments\n",
    "use `*args` and `**kwargs` in the inner wrapper function. Then it will accept an arbitrary number of positional and keyword arguments. Rewrite `decorators.py` as follows:\n",
    "```python\n",
    "def do_twice(func):\n",
    "    def wrapper(*args, **kwargs):\n",
    "        func(*args, **kwargs)\n",
    "        func(*args, **kwargs)\n",
    "    return wrapper\n",
    "```"
   ]
  },
  {
   "cell_type": "code",
   "execution_count": 5,
   "id": "38a521ea-1170-4c6b-81b1-ca7a64391526",
   "metadata": {},
   "outputs": [
    {
     "name": "stdout",
     "output_type": "stream",
     "text": [
      "name\n",
      "name\n"
     ]
    },
    {
     "data": {
      "text/plain": [
       "(<function decorator_1.do_twice.<locals>.wrapper_1(*args, **kwargs)>, None)"
      ]
     },
     "execution_count": 5,
     "metadata": {},
     "output_type": "execute_result"
    }
   ],
   "source": [
    "# check decorator.py file\n",
    "from decorator_1 import do_twice\n",
    "\n",
    "@do_twice\n",
    "def func_1(*args, **kwargs):\n",
    "    print(str(*args))\n",
    "    \n",
    "func_1, func_1('name')"
   ]
  },
  {
   "cell_type": "markdown",
   "id": "05b59026-6cb4-46ab-a88a-e4a11cbfc746",
   "metadata": {},
   "source": [
    "# Returning Values From Decorated Functions\n",
    "So far we have returned functions using a `decorator`. Now we will use decorated function to return values. We have to add a return value to our wrapper in `decorator.py`."
   ]
  },
  {
   "cell_type": "code",
   "execution_count": 3,
   "id": "d820621a-63a9-45f8-9740-7bfd40007884",
   "metadata": {},
   "outputs": [
    {
     "name": "stdout",
     "output_type": "stream",
     "text": [
      "name1\n",
      "name1\n",
      "name1\n"
     ]
    },
    {
     "data": {
      "text/plain": [
       "(<function decorator_1.do_twice.<locals>.wrapper_1(*args, **kwargs)>,\n",
       " 'hi name')"
      ]
     },
     "execution_count": 3,
     "metadata": {},
     "output_type": "execute_result"
    }
   ],
   "source": [
    "# check decorator.py file\n",
    "from decorator_1 import do_twice\n",
    "\n",
    "@do_twice\n",
    "def func_1(name):\n",
    "    print(name)\n",
    "    return f\"hi {name}\" \n",
    "    \n",
    "func_1, func_1('name')"
   ]
  },
  {
   "cell_type": "code",
   "execution_count": 2,
   "id": "b77a77ea-b054-46a4-8999-b89b7191a3b8",
   "metadata": {},
   "outputs": [
    {
     "name": "stdout",
     "output_type": "stream",
     "text": [
      "name\n",
      "name\n",
      "name\n"
     ]
    },
    {
     "data": {
      "text/plain": [
       "'hi name'"
      ]
     },
     "execution_count": 2,
     "metadata": {},
     "output_type": "execute_result"
    }
   ],
   "source": [
    "a=func_1('name')\n",
    "a"
   ]
  },
  {
   "cell_type": "code",
   "execution_count": 6,
   "id": "583f4197-06b5-49cd-823c-c12def3e7e6a",
   "metadata": {},
   "outputs": [
    {
     "data": {
      "text/plain": [
       "('wrapper_1', 'do_twice')"
      ]
     },
     "execution_count": 6,
     "metadata": {},
     "output_type": "execute_result"
    }
   ],
   "source": [
    "# Every function knows its name\n",
    "func_1.__name__, do_twice.__name__"
   ]
  },
  {
   "cell_type": "code",
   "execution_count": 13,
   "id": "087a35b3-0a5e-4873-86a5-51b882e6a630",
   "metadata": {},
   "outputs": [
    {
     "name": "stdout",
     "output_type": "stream",
     "text": [
      "Help on function wrapper_1 in module decorator_1:\n",
      "\n",
      "wrapper_1(*args, **kwargs)\n",
      "\n",
      "\n",
      "\n",
      "\n",
      "Help on function do_twice in module decorator_1:\n",
      "\n",
      "do_twice(func)\n",
      "\n"
     ]
    },
    {
     "data": {
      "text/plain": [
       "(None, None, None)"
      ]
     },
     "execution_count": 13,
     "metadata": {},
     "output_type": "execute_result"
    }
   ],
   "source": [
    "help(func_1),print('\\n\\n'), help(do_twice)"
   ]
  },
  {
   "cell_type": "markdown",
   "id": "50684164-15ab-4f1b-af55-5f1d3b4e9e0f",
   "metadata": {},
   "source": [
    "However, after being decorated, `func_1` has gotten very confused about its identity. It now reports being the `wrapper_1()` inner function inside the `do_twice()` decorator. Although technically true, this is not very useful information. To fix this, decorators should use the `@functools.wraps` decorator, which will preserve information about the original function. Update `decorators.py` again:\n",
    "\n",
    "```python\n",
    "import functools\n",
    "\n",
    "def do_twice(func):\n",
    "    @functools.wraps(func)\n",
    "    def wrapper_1(*args, **kwargs):\n",
    "        func(*args, **kwargs)\n",
    "        func(*args, **kwargs)\n",
    "        return func(*args, **kwargs)\n",
    "    return wrapper_1\n",
    "```"
   ]
  },
  {
   "cell_type": "code",
   "execution_count": 2,
   "id": "fb3bc34b-19ad-49b2-82ce-490faabab450",
   "metadata": {},
   "outputs": [
    {
     "name": "stdout",
     "output_type": "stream",
     "text": [
      "hello\n",
      "hello\n",
      "hello\n"
     ]
    },
    {
     "data": {
      "text/plain": [
       "(<function __main__.func_1()>, None)"
      ]
     },
     "execution_count": 2,
     "metadata": {},
     "output_type": "execute_result"
    }
   ],
   "source": [
    "from decorator_1 import do_twice_functools\n",
    "\n",
    "@do_twice_functools\n",
    "def func_1():\n",
    "    print('hello')\n",
    "    \n",
    "func_1,func_1()"
   ]
  },
  {
   "cell_type": "code",
   "execution_count": 4,
   "id": "1e967526-0624-4c45-be11-bd6a2ffc499c",
   "metadata": {},
   "outputs": [
    {
     "data": {
      "text/plain": [
       "'func_1'"
      ]
     },
     "execution_count": 4,
     "metadata": {},
     "output_type": "execute_result"
    }
   ],
   "source": [
    "# This time the identity should be the same\n",
    "func_1.__name__"
   ]
  },
  {
   "cell_type": "markdown",
   "id": "186ee18b-dcb7-4a59-b3f3-4b42d11d2918",
   "metadata": {},
   "source": [
    "# A Decorator boilerplate  template\n",
    "```python\n",
    "import functools\n",
    "\n",
    "def decorator(func):\n",
    "    @functools.wraps(func)\n",
    "    def wrapper_decorator(*args, **kwargs):\n",
    "        # Do something before\n",
    "        value = func(*args, **kwargs)\n",
    "        # Do something after\n",
    "        return value\n",
    "    return wrapper_decorator\n",
    "```\n",
    "## Timing decorator"
   ]
  },
  {
   "cell_type": "code",
   "execution_count": 8,
   "id": "477173e7-b9d1-407c-931a-e2ce63eb61a0",
   "metadata": {},
   "outputs": [
    {
     "name": "stdout",
     "output_type": "stream",
     "text": [
      "Finished 'waste_some_time' in 2.1499 secs\n"
     ]
    }
   ],
   "source": [
    "import functools\n",
    "import time\n",
    "\n",
    "def timer(func):\n",
    "    \"\"\"Print the runtime of the decorated function\"\"\"\n",
    "    @functools.wraps(func)\n",
    "    def wrapper_timer(*args, **kwargs):\n",
    "        start_time = time.perf_counter()    # 1\n",
    "        value = func(*args, **kwargs) # just a value\n",
    "        end_time = time.perf_counter()      # 2\n",
    "        run_time = end_time - start_time    # 3\n",
    "        print(f\"Finished {func.__name__!r} in {run_time:.4f} secs\")\n",
    "        return value\n",
    "    return wrapper_timer\n",
    "\n",
    "@timer\n",
    "def waste_some_time(num_times):\n",
    "    for _ in range(num_times):\n",
    "        sum([i**2 for i in range(10000)])\n",
    "        \n",
    "waste_some_time(1000)"
   ]
  },
  {
   "cell_type": "markdown",
   "id": "3542a96d-c34a-4508-9119-a8b6769b3f47",
   "metadata": {},
   "source": [
    "# Debugging code\n",
    "The following @debug decorator will print the arguments a function is called with as well as its return value every time the function is called:"
   ]
  },
  {
   "cell_type": "code",
   "execution_count": 11,
   "id": "3adc0826-7f4e-404c-8795-2139946d46a1",
   "metadata": {},
   "outputs": [],
   "source": [
    "import functools\n",
    "\n",
    "def debug(func):\n",
    "    \"\"\"Print the function signature and return value\"\"\"\n",
    "    @functools.wraps(func)\n",
    "    def wrapper_debug(*args, **kwargs):\n",
    "        args_repr = [repr(a) for a in args]                      # 1\n",
    "        kwargs_repr = [f\"{k}={v!r}\" for k, v in kwargs.items()]  # 2\n",
    "        signature = \", \".join(args_repr + kwargs_repr)           # 3\n",
    "        print(f\"Calling {func.__name__}({signature})\")\n",
    "        value = func(*args, **kwargs)\n",
    "        print(f\"{func.__name__!r} returned {value!r}\")           # 4\n",
    "        return value\n",
    "    return wrapper_debug"
   ]
  },
  {
   "cell_type": "markdown",
   "id": "08f892c0-0ff8-4dd9-8bfb-77488335abd6",
   "metadata": {},
   "source": [
    "The signature is created by joining the string representations of all the arguments. The numbers in the following list correspond to the numbered comments in the code:\n",
    "* Create a list of the positional arguments. Use repr() to get a nice string representing each argument.\n",
    "* Create a list of the keyword arguments. The f-string formats each argument as `key=value` where the `!r` specifier means that repr() is used to represent the value.\n",
    "* The lists of positional and keyword arguments is joined together to one signature string with each argument separated by a comma.\n",
    "* The return value is printed after the function is executed.\n",
    "\n",
    "Let’s see how the decorator works in practice by applying it to a simple function with one position and one keyword argument:"
   ]
  },
  {
   "cell_type": "code",
   "execution_count": 13,
   "id": "8335ddda-6ac0-4ae7-85f9-35e6effd4016",
   "metadata": {},
   "outputs": [
    {
     "name": "stdout",
     "output_type": "stream",
     "text": [
      "Calling make_greeting('Benjamin')\n",
      "'make_greeting' returned 'Howdy Benjamin!'\n",
      "Calling make_greeting('Richard', age=112)\n",
      "'make_greeting' returned 'Whoa Richard! 112 already, you are growing up!'\n",
      "Calling make_greeting(name='Dorrisile', age=116)\n",
      "'make_greeting' returned 'Whoa Dorrisile! 116 already, you are growing up!'\n"
     ]
    },
    {
     "data": {
      "text/plain": [
       "'Whoa Dorrisile! 116 already, you are growing up!'"
      ]
     },
     "execution_count": 13,
     "metadata": {},
     "output_type": "execute_result"
    }
   ],
   "source": [
    "@debug\n",
    "def make_greeting(name, age=None):\n",
    "    if age is None:\n",
    "        return f\"Howdy {name}!\"\n",
    "    else:\n",
    "        return f\"Whoa {name}! {age} already, you are growing up!\"\n",
    "\n",
    "make_greeting(\"Benjamin\")\n",
    "\n",
    "make_greeting(\"Richard\", age=112)\n",
    "\n",
    "make_greeting(name=\"Dorrisile\", age=116)"
   ]
  }
 ],
 "metadata": {
  "kernelspec": {
   "display_name": "Python 3 (ipykernel)",
   "language": "python",
   "name": "python3"
  },
  "language_info": {
   "codemirror_mode": {
    "name": "ipython",
    "version": 3
   },
   "file_extension": ".py",
   "mimetype": "text/x-python",
   "name": "python",
   "nbconvert_exporter": "python",
   "pygments_lexer": "ipython3",
   "version": "3.9.12"
  }
 },
 "nbformat": 4,
 "nbformat_minor": 5
}
