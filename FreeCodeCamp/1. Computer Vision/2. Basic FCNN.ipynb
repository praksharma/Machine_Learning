{
 "cells": [
  {
   "cell_type": "markdown",
   "metadata": {},
   "source": [
    "* import tensorflow as tf\n",
    "* tf.__version__\n",
    "* tf. config. list_physical_devices() # list of physical devices: not able to use GPU"
   ]
  },
  {
   "cell_type": "markdown",
   "metadata": {},
   "source": [
    "### Car pricing example\n",
    "* X -> horse power (HP)\n",
    "* Y -> price\n",
    "* dataset : https://www.kaggle.com/datasets/mayankpatel14/second-hand-used-cars-data-set-linear-regression\n",
    "\n",
    "* Feature: \n",
    "    * on road old\n",
    "    * on road now\n",
    "    * years\n",
    "    * km\n",
    "    * rating\n",
    "    * condition\n",
    "    * economy\n",
    "    * top speed\n",
    "    * hp\n",
    "    * torque\n",
    "* Label\n",
    "    * current price"
   ]
  },
  {
   "cell_type": "markdown",
   "metadata": {},
   "source": [
    "Seaborn's pair plot can be used to visualize the distribution of a dataset.\n",
    "It looks like this:\n",
    "\n",
    "![Alt text](image.png)"
   ]
  },
  {
   "cell_type": "markdown",
   "metadata": {},
   "source": [
    "* The diagonals in the pair plot are the univariate distributions of each feature.\n",
    "* All other plots are bivariate distributions of each feature with each other feature.\n",
    "\n",
    "For example, see this figure.\n",
    "\n",
    "![Alt text](image-1.png)"
   ]
  },
  {
   "cell_type": "markdown",
   "metadata": {},
   "source": [
    "*  increase in number of years, the price doesn't change, which is obvious. \n",
    "* we can see that with increase in km travelled, the price of second hand car decreases.\n",
    "\n",
    "So in theory, if our objective is to caulculate the price of second hand car, we can ignote the year as it doesn't change the price."
   ]
  },
  {
   "cell_type": "code",
   "execution_count": null,
   "metadata": {},
   "outputs": [],
   "source": []
  },
  {
   "cell_type": "code",
   "execution_count": null,
   "metadata": {},
   "outputs": [],
   "source": []
  }
 ],
 "metadata": {
  "kernelspec": {
   "display_name": "Python 3 (ipykernel)",
   "language": "python",
   "name": "python3"
  },
  "language_info": {
   "codemirror_mode": {
    "name": "ipython",
    "version": 3
   },
   "file_extension": ".py",
   "mimetype": "text/x-python",
   "name": "python",
   "nbconvert_exporter": "python",
   "pygments_lexer": "ipython3",
   "version": "3.9.16"
  },
  "orig_nbformat": 4
 },
 "nbformat": 4,
 "nbformat_minor": 2
}
